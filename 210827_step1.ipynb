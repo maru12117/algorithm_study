{
 "cells": [
  {
   "cell_type": "markdown",
   "id": "1f27802c",
   "metadata": {},
   "source": [
    "# STEP01 스택(Stack)/큐(Queue)\n",
    "\n",
    "스택 자료구조는 책을 쌓는 것처럼 차곡차곡 쌓아 올린 형태의 자료구조를 말합니다.\n",
    " - 스택에서 삽입하는 연산을 push , 삭제하는 연산을 pop 이라고 합니다.\n",
    " - 스택은 시간 순서에 따라 자료가 쌓여서 가장 마지막에 삽입된 자료가 가장 먼저 삭제되는 구조적인 특징을 가지고 있습니다.\n",
    "\n",
    "큐는 한쪽에서 삽입과, 삭제가 이루워지는 스택과 달리 삭제연산만 수행되는 곳과, 삽입연산만 수행되는 곳으로 나뉘어져 있습"
   ]
  },
  {
   "cell_type": "code",
   "execution_count": 4,
   "id": "5ad3dc97",
   "metadata": {},
   "outputs": [
    {
     "data": {
      "text/plain": [
       "[1, 4, 5]"
      ]
     },
     "execution_count": 4,
     "metadata": {},
     "output_type": "execute_result"
    }
   ],
   "source": [
    "a = [1,4,5,6]\n",
    "a.pop()\n",
    "a"
   ]
  },
  {
   "cell_type": "code",
   "execution_count": 18,
   "id": "3afd265c",
   "metadata": {},
   "outputs": [
    {
     "data": {
      "text/plain": [
       "[3, 4, 5, 6]"
      ]
     },
     "execution_count": 18,
     "metadata": {},
     "output_type": "execute_result"
    }
   ],
   "source": [
    "b=[1,3,4,5,6]\n",
    "\n",
    "b.pop(0)\n",
    "b"
   ]
  },
  {
   "cell_type": "markdown",
   "id": "446caefd",
   "metadata": {},
   "source": [
    "## 주식가격\n",
    "\n",
    "초 단위로 기록된 주식가격이 담긴 배열 prices가 매개변수로 주어질 때,\n",
    "\n",
    "가격이 떨어지지 않은 기간은 몇 초인지를 return 하도록 solution 함수를 완성하세요."
   ]
  },
  {
   "cell_type": "code",
   "execution_count": 11,
   "id": "86225acd",
   "metadata": {},
   "outputs": [
    {
     "data": {
      "text/plain": [
       "[4, 3, 1, 1, 0]"
      ]
     },
     "execution_count": 11,
     "metadata": {},
     "output_type": "execute_result"
    }
   ],
   "source": [
    "def solution(prices):\n",
    "    answer =[0] * len(prices)\n",
    "    for i in range(len(prices)): #첫번째 인덱스부터 다른인덱스와 비교를 시작할 것임.(비교대상)\n",
    "        for j in range(i+1, len(prices)): #비교대상인 i번쨰 인덱스와 i+1의 인덱스부터 끝 인덱스까지 비교를 시작함\n",
    "            if prices[i] <= prices[j]: #비교 대상인 인덱스가 해당 인덱스보다 크지 않기때문에..떨어질 일일 생기지 않음.\n",
    "                answer[i]+=1 #따라서 비교대상인 1은 (2,3,2,3)을 지나도 떨어지지 않음(해당 구간을 count로 셈)\n",
    "            else:\n",
    "                answer[i]+=1 # 그렇지 않은 구간을 count함.\n",
    "                break\n",
    "    return answer\n",
    "\n",
    "prices=[1, 2, 3, 2, 3]\n",
    "solution(prices)"
   ]
  },
  {
   "cell_type": "markdown",
   "id": "1ec73aea",
   "metadata": {},
   "source": [
    "## 기능개발"
   ]
  },
  {
   "cell_type": "code",
   "execution_count": 8,
   "id": "f2afef36",
   "metadata": {},
   "outputs": [
    {
     "data": {
      "text/plain": [
       "[1, 3, 2]"
      ]
     },
     "execution_count": 8,
     "metadata": {},
     "output_type": "execute_result"
    }
   ],
   "source": [
    "def solution(progresses, speeds):\n",
    "    for i in range(len(progresses)):\n",
    "        progresses[i]=(100-progresses[i])//speeds[i] #남은 일수 구하기(몫구하기)\n",
    "    answer=[]\n",
    "    count=1\n",
    "    for i in range(len(progresses)):\n",
    "        try: \n",
    "            if progresses[i]<progresses[i+1]: #앞의 배열이 뒷 배열보다 작으면 count 추가\n",
    "                answer.append(count)\n",
    "                count=1\n",
    "            else:\n",
    "                count+=1\n",
    "        except:\n",
    "            answer.append(count) #리스트에서 맨 끝(인덱스 오류 시)에 남는게 없으면..카운터 마지막으로 추가\n",
    "    return answer\n",
    "\n",
    "progresses=[95, 90, 99, 99, 80, 99]\n",
    "speeds=[1, 1, 1, 1, 1, 1]\n",
    "solution(progresses, speeds)"
   ]
  },
  {
   "cell_type": "markdown",
   "id": "8b9c9e6f",
   "metadata": {},
   "source": [
    "## 다리를 지나는 트럭"
   ]
  },
  {
   "cell_type": "code",
   "execution_count": 9,
   "id": "09a10691",
   "metadata": {},
   "outputs": [
    {
     "data": {
      "text/plain": [
       "101"
      ]
     },
     "execution_count": 9,
     "metadata": {},
     "output_type": "execute_result"
    }
   ],
   "source": [
    "from collections import deque\n",
    "\n",
    "def solution(bridge_length, weight, truck_weights):\n",
    "    time = 0\n",
    "    bridgeWeight = 0 # 다리 위의 트럭 무게\n",
    "    waiting = deque(truck_weights) # 대기 트럭 큐\n",
    "    bridge = deque([0 for _ in range(bridge_length)]) # 다리 길이만큼 0으로 채운다.\n",
    "    \n",
    "    while len(waiting) or bridgeWeight > 0: # 대기 트럭이 있거나 이동 중인 트럭이 있는 동안 반복\n",
    "        removedTruck = bridge.popleft() # 다리에서 하나 제거\n",
    "        bridgeWeight -= removedTruck\n",
    "        \n",
    "        if len(waiting) and bridgeWeight + waiting[0] <= weight: # 새 트럭이 다리에 올라갈 수 있으면\n",
    "            newTruck = waiting.popleft()\n",
    "            bridgeWeight += newTruck\n",
    "            \n",
    "            bridge.append(newTruck) # 대기 트럭에서 하나 빼서 다리에 올림\n",
    "            \n",
    "        else: # 새 트럭이 다리에 올라갈 수 없으면\n",
    "            bridge.append(0) # 오른쪽에 0을 삽입해서 다리 길이 유지\n",
    "            \n",
    "        time += 1\n",
    "    return time\n",
    "\n",
    "bridge_length=100\n",
    "weight=10\n",
    "truck_weights=[10]\n",
    "solution(bridge_length, weight, truck_weights)"
   ]
  },
  {
   "cell_type": "code",
   "execution_count": 26,
   "id": "579c985e",
   "metadata": {},
   "outputs": [
    {
     "data": {
      "text/plain": [
       "deque([2])"
      ]
     },
     "execution_count": 26,
     "metadata": {},
     "output_type": "execute_result"
    }
   ],
   "source": [
    "from collections import deque\n",
    "\n",
    "queue = deque() #리스트 생성\n",
    "queue.append(1)\n",
    "queue.append(2)\n",
    "queue.popleft() #제일 왼쪽 꺼 빠지기..\n",
    "queue"
   ]
  },
  {
   "cell_type": "code",
   "execution_count": null,
   "id": "a2b3930a",
   "metadata": {},
   "outputs": [],
   "source": []
  }
 ],
 "metadata": {
  "kernelspec": {
   "display_name": "Python 3",
   "language": "python",
   "name": "python3"
  },
  "language_info": {
   "codemirror_mode": {
    "name": "ipython",
    "version": 3
   },
   "file_extension": ".py",
   "mimetype": "text/x-python",
   "name": "python",
   "nbconvert_exporter": "python",
   "pygments_lexer": "ipython3",
   "version": "3.7.10"
  }
 },
 "nbformat": 4,
 "nbformat_minor": 5
}
